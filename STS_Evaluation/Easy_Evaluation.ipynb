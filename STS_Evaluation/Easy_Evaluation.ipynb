{
 "cells": [
  {
   "cell_type": "code",
   "execution_count": 2,
   "metadata": {},
   "outputs": [
    {
     "name": "stderr",
     "output_type": "stream",
     "text": [
      "/usr/local/lib/python3.8/dist-packages/tqdm/auto.py:21: TqdmWarning: IProgress not found. Please update jupyter and ipywidgets. See https://ipywidgets.readthedocs.io/en/stable/user_install.html\n",
      "  from .autonotebook import tqdm as notebook_tqdm\n",
      "/usr/local/lib/python3.8/dist-packages/transformers/utils/hub.py:124: FutureWarning: Using `TRANSFORMERS_CACHE` is deprecated and will be removed in v5 of Transformers. Use `HF_HOME` instead.\n",
      "  warnings.warn(\n"
     ]
    }
   ],
   "source": [
    "from torch.utils.data import DataLoader\n",
    "from sentence_transformers import SentenceTransformer,  SentencesDataset, LoggingHandler, evaluation\n",
    "from sentence_transformers.evaluation import EmbeddingSimilarityEvaluator, SequentialEvaluator\n",
    "from sentence_transformers.readers import STSBenchmarkDataReader\n",
    "import logging\n",
    "import sys\n",
    "import os\n",
    "import torch\n",
    "import numpy as np\n",
    "import zipfile\n",
    "import io\n",
    "import pandas as pd"
   ]
  },
  {
   "cell_type": "code",
   "execution_count": 31,
   "metadata": {
    "scrolled": true
   },
   "outputs": [
    {
     "name": "stdout",
     "output_type": "stream",
     "text": [
      "2023-12-21 10:56:31 - Load pretrained SentenceTransformer: sentence-transformers/distiluse-base-multilingual-cased-v2\n",
      "2023-12-21 10:56:33 - Use pytorch device: cuda\n"
     ]
    }
   ],
   "source": [
    "#### Just some code to print debug information to stdout\n",
    "logging.basicConfig(format='%(asctime)s - %(message)s',\n",
    "                    datefmt='%Y-%m-%d %H:%M:%S',\n",
    "                    level=logging.INFO,\n",
    "                    handlers=[LoggingHandler()])\n",
    "#### /print debug information to stdout\n",
    "\n",
    "model_name = 'sentence-transformers/distiluse-base-multilingual-cased-v2'\n",
    "# Load a named sentence model (based on BERT). This will download the model from our server.\n",
    "# Alternatively, you can also pass a filepath to SentenceTransformer()\n",
    "model = SentenceTransformer(model_name)"
   ]
  },
  {
   "cell_type": "code",
   "execution_count": 3,
   "metadata": {
    "scrolled": true
   },
   "outputs": [],
   "source": [
    "logging.info(\"Read STS test dataset\")\n",
    "filepath = '../stsbenchmark/sts-test_th.csv'\n",
    "thai_sts = pd.read_csv(filepath,header=None).dropna()\n",
    "thai_sts.columns = ['text_1','text_2','correlation']"
   ]
  },
  {
   "cell_type": "code",
   "execution_count": 4,
   "metadata": {},
   "outputs": [
    {
     "data": {
      "text/html": [
       "<div>\n",
       "<style scoped>\n",
       "    .dataframe tbody tr th:only-of-type {\n",
       "        vertical-align: middle;\n",
       "    }\n",
       "\n",
       "    .dataframe tbody tr th {\n",
       "        vertical-align: top;\n",
       "    }\n",
       "\n",
       "    .dataframe thead th {\n",
       "        text-align: right;\n",
       "    }\n",
       "</style>\n",
       "<table border=\"1\" class=\"dataframe\">\n",
       "  <thead>\n",
       "    <tr style=\"text-align: right;\">\n",
       "      <th></th>\n",
       "      <th>text_1</th>\n",
       "      <th>text_2</th>\n",
       "      <th>correlation</th>\n",
       "    </tr>\n",
       "  </thead>\n",
       "  <tbody>\n",
       "    <tr>\n",
       "      <th>0</th>\n",
       "      <td>ผู้หญิงกำลังจัดแต่งทรงผมของเธอ</td>\n",
       "      <td>ผู้หญิงคนหนึ่งกำลังแปรงผมของเธอ</td>\n",
       "      <td>2.5</td>\n",
       "    </tr>\n",
       "    <tr>\n",
       "      <th>1</th>\n",
       "      <td>กลุ่มผู้ชายเล่นฟุตบอลบนชายหาด</td>\n",
       "      <td>กลุ่มเด็กผู้ชายกำลังเล่นฟุตบอลบนชายหาด</td>\n",
       "      <td>3.6</td>\n",
       "    </tr>\n",
       "    <tr>\n",
       "      <th>2</th>\n",
       "      <td>ผู้หญิงคนหนึ่งกำลังวัดข้อเท้าของผู้หญิงคนอื่น</td>\n",
       "      <td>ผู้หญิงวัดข้อเท้าของผู้หญิงคนอื่น</td>\n",
       "      <td>5.0</td>\n",
       "    </tr>\n",
       "    <tr>\n",
       "      <th>3</th>\n",
       "      <td>ผู้ชายกำลังตัดแตงกวา</td>\n",
       "      <td>ผู้ชายกำลังหั่นแตงกวา</td>\n",
       "      <td>4.2</td>\n",
       "    </tr>\n",
       "    <tr>\n",
       "      <th>4</th>\n",
       "      <td>ผู้ชายกำลังเล่นพิณ</td>\n",
       "      <td>ผู้ชายกำลังเล่นแป้นพิมพ์</td>\n",
       "      <td>1.5</td>\n",
       "    </tr>\n",
       "    <tr>\n",
       "      <th>...</th>\n",
       "      <td>...</td>\n",
       "      <td>...</td>\n",
       "      <td>...</td>\n",
       "    </tr>\n",
       "    <tr>\n",
       "      <th>1374</th>\n",
       "      <td>ฟิลิปปินส์แคนาดาให้คำมั่นว่าจะเพิ่มความสัมพันธ...</td>\n",
       "      <td>ฟิลิปปินส์ช่วยประหยัด 100 หลังจมูก</td>\n",
       "      <td>0.0</td>\n",
       "    </tr>\n",
       "    <tr>\n",
       "      <th>1375</th>\n",
       "      <td>ชาวอิสราเอลบาร์ชาวปาเลสไตน์จากเมืองเก่าของเยรู...</td>\n",
       "      <td>การแก้ปัญหาสองรัฐระหว่างชาวปาเลสไตน์อิสราเอลพา...</td>\n",
       "      <td>1.0</td>\n",
       "    </tr>\n",
       "    <tr>\n",
       "      <th>1376</th>\n",
       "      <td>คุณรู้เกี่ยวกับหน่วยสืบราชการลับมากแค่ไหน?</td>\n",
       "      <td>ผู้ร่างกฎหมายจากทั้งสองฝ่ายแสดงความไม่พอใจที่ห...</td>\n",
       "      <td>1.0</td>\n",
       "    </tr>\n",
       "    <tr>\n",
       "      <th>1377</th>\n",
       "      <td>โอบามาดิ้นรนเพื่อบรรเทาความกลัวของซาอุดิอาระเบ...</td>\n",
       "      <td>พม่าพยายามดิ้นรนเพื่อสรุปรายชื่อผู้มีสิทธิเลือ...</td>\n",
       "      <td>0.0</td>\n",
       "    </tr>\n",
       "    <tr>\n",
       "      <th>1378</th>\n",
       "      <td>เกาหลีใต้ประกาศว่าการระบาดของโรคจะสิ้นสุดลง</td>\n",
       "      <td>คณะผู้แทนเกาหลีเหนือพบกับเจ้าหน้าที่เกาหลีใต้</td>\n",
       "      <td>0.0</td>\n",
       "    </tr>\n",
       "  </tbody>\n",
       "</table>\n",
       "<p>1379 rows × 3 columns</p>\n",
       "</div>"
      ],
      "text/plain": [
       "                                                 text_1  \\\n",
       "0                        ผู้หญิงกำลังจัดแต่งทรงผมของเธอ   \n",
       "1                         กลุ่มผู้ชายเล่นฟุตบอลบนชายหาด   \n",
       "2         ผู้หญิงคนหนึ่งกำลังวัดข้อเท้าของผู้หญิงคนอื่น   \n",
       "3                                  ผู้ชายกำลังตัดแตงกวา   \n",
       "4                                    ผู้ชายกำลังเล่นพิณ   \n",
       "...                                                 ...   \n",
       "1374  ฟิลิปปินส์แคนาดาให้คำมั่นว่าจะเพิ่มความสัมพันธ...   \n",
       "1375  ชาวอิสราเอลบาร์ชาวปาเลสไตน์จากเมืองเก่าของเยรู...   \n",
       "1376         คุณรู้เกี่ยวกับหน่วยสืบราชการลับมากแค่ไหน?   \n",
       "1377  โอบามาดิ้นรนเพื่อบรรเทาความกลัวของซาอุดิอาระเบ...   \n",
       "1378        เกาหลีใต้ประกาศว่าการระบาดของโรคจะสิ้นสุดลง   \n",
       "\n",
       "                                                 text_2  correlation  \n",
       "0                       ผู้หญิงคนหนึ่งกำลังแปรงผมของเธอ          2.5  \n",
       "1                กลุ่มเด็กผู้ชายกำลังเล่นฟุตบอลบนชายหาด          3.6  \n",
       "2                     ผู้หญิงวัดข้อเท้าของผู้หญิงคนอื่น          5.0  \n",
       "3                                 ผู้ชายกำลังหั่นแตงกวา          4.2  \n",
       "4                              ผู้ชายกำลังเล่นแป้นพิมพ์          1.5  \n",
       "...                                                 ...          ...  \n",
       "1374                 ฟิลิปปินส์ช่วยประหยัด 100 หลังจมูก          0.0  \n",
       "1375  การแก้ปัญหาสองรัฐระหว่างชาวปาเลสไตน์อิสราเอลพา...          1.0  \n",
       "1376  ผู้ร่างกฎหมายจากทั้งสองฝ่ายแสดงความไม่พอใจที่ห...          1.0  \n",
       "1377  พม่าพยายามดิ้นรนเพื่อสรุปรายชื่อผู้มีสิทธิเลือ...          0.0  \n",
       "1378      คณะผู้แทนเกาหลีเหนือพบกับเจ้าหน้าที่เกาหลีใต้          0.0  \n",
       "\n",
       "[1379 rows x 3 columns]"
      ]
     },
     "execution_count": 4,
     "metadata": {},
     "output_type": "execute_result"
    }
   ],
   "source": [
    "thai_sts"
   ]
  },
  {
   "cell_type": "code",
   "execution_count": 32,
   "metadata": {},
   "outputs": [
    {
     "name": "stdout",
     "output_type": "stream",
     "text": [
      "2023-12-21 10:56:35 - EmbeddingSimilarityEvaluator: Evaluating the model on  dataset:\n",
      "2023-12-21 10:56:37 - Cosine-Similarity :\tPearson: 0.6326\tSpearman: 0.6537\n",
      "2023-12-21 10:56:37 - Manhattan-Distance:\tPearson: 0.6351\tSpearman: 0.6353\n",
      "2023-12-21 10:56:37 - Euclidean-Distance:\tPearson: 0.6468\tSpearman: 0.6494\n",
      "2023-12-21 10:56:37 - Dot-Product-Similarity:\tPearson: 0.5597\tSpearman: 0.5602\n"
     ]
    },
    {
     "data": {
      "text/plain": [
       "0.6536675084906219"
      ]
     },
     "execution_count": 32,
     "metadata": {},
     "output_type": "execute_result"
    }
   ],
   "source": [
    "test_evaluator = EmbeddingSimilarityEvaluator(thai_sts['text_1'], thai_sts['text_2'], thai_sts['correlation'], batch_size=16, show_progress_bar=False)\n",
    "test_evaluator(model) #ใช้แค่ cosine-similarity: spearman: XXXXX"
   ]
  },
  {
   "cell_type": "markdown",
   "metadata": {},
   "source": [
    "# Cohere embedding"
   ]
  },
  {
   "cell_type": "code",
   "execution_count": 5,
   "metadata": {},
   "outputs": [],
   "source": [
    "import cohere\n",
    "co = cohere.Client('YOUR COHERE API KEY')"
   ]
  },
  {
   "cell_type": "code",
   "execution_count": 8,
   "metadata": {},
   "outputs": [],
   "source": [
    "from sklearn.metrics.pairwise import paired_cosine_distances\n",
    "from scipy.stats import pearsonr, spearmanr\n",
    "import numpy as np"
   ]
  },
  {
   "cell_type": "code",
   "execution_count": 21,
   "metadata": {},
   "outputs": [],
   "source": [
    "text1 = thai_sts['text_1'].values.tolist()\n",
    "text2 = thai_sts['text_2'].values.tolist()\n",
    "label = thai_sts['correlation'].values.tolist()"
   ]
  },
  {
   "cell_type": "code",
   "execution_count": 25,
   "metadata": {},
   "outputs": [],
   "source": [
    "bs = 96\n",
    "embed1 = []\n",
    "embed2 = []\n",
    "for i in range(len(text1)//bs+1):\n",
    "    embed1.append(co.embed(\n",
    "      texts=thai_sts['text_1'][(i*bs):((i+1)*bs)].values.tolist(),\n",
    "      model='embed-multilingual-v2.0',\n",
    "    ).embeddings)\n",
    "    embed2.append(co.embed(\n",
    "      texts=thai_sts['text_2'][(i*bs):((i+1)*bs)].values.tolist(),\n",
    "      model='embed-multilingual-v2.0',\n",
    "    ).embeddings)"
   ]
  },
  {
   "cell_type": "code",
   "execution_count": 29,
   "metadata": {
    "scrolled": true
   },
   "outputs": [
    {
     "data": {
      "text/plain": [
       "((1379, 768), (1379, 768))"
      ]
     },
     "execution_count": 29,
     "metadata": {},
     "output_type": "execute_result"
    }
   ],
   "source": [
    "embed1_final = np.concatenate(embed1,0)\n",
    "embed2_final = np.concatenate(embed2,0)\n",
    "embed1_final.shape, embed2_final.shape"
   ]
  },
  {
   "cell_type": "code",
   "execution_count": 30,
   "metadata": {},
   "outputs": [
    {
     "data": {
      "text/plain": [
       "0.6802529676942305"
      ]
     },
     "execution_count": 30,
     "metadata": {},
     "output_type": "execute_result"
    }
   ],
   "source": [
    "cosine_scores = 1 - (paired_cosine_distances(embed1_final, embed2_final))\n",
    "eval_spearman_cosine, _ = spearmanr(label, cosine_scores)\n",
    "eval_spearman_cosine"
   ]
  },
  {
   "cell_type": "markdown",
   "metadata": {},
   "source": [
    "# BGE-M3"
   ]
  },
  {
   "cell_type": "code",
   "execution_count": null,
   "metadata": {},
   "outputs": [],
   "source": [
    "from sklearn.metrics.pairwise import paired_cosine_distances\n",
    "from scipy.stats import pearsonr, spearmanr\n",
    "import numpy as np"
   ]
  },
  {
   "cell_type": "code",
   "execution_count": 4,
   "metadata": {},
   "outputs": [
    {
     "name": "stderr",
     "output_type": "stream",
     "text": [
      "Fetching 23 files: 100%|████████████████████████████████████████████████████████████████████████████████████████████████████████████████████████████████████████████████████████████████████████████████████████████████████| 23/23 [00:00<00:00, 140420.66it/s]\n"
     ]
    }
   ],
   "source": [
    "from FlagEmbedding import BGEM3FlagModel\n",
    "model = BGEM3FlagModel('BAAI/bge-m3',  use_fp16=True) "
   ]
  },
  {
   "cell_type": "code",
   "execution_count": 5,
   "metadata": {},
   "outputs": [],
   "source": [
    "text1 = thai_sts['text_1'].values.tolist()\n",
    "text2 = thai_sts['text_2'].values.tolist()\n",
    "label = thai_sts['correlation'].values.tolist()"
   ]
  },
  {
   "cell_type": "code",
   "execution_count": 10,
   "metadata": {},
   "outputs": [
    {
     "name": "stderr",
     "output_type": "stream",
     "text": [
      "Inference Embeddings: 100%|███████████████████████████████████████████████████████████████████████████████████████████████████████████████████████████████████████████████████████████████████████████████████████████████████| 115/115 [00:03<00:00, 37.35it/s]\n"
     ]
    }
   ],
   "source": [
    "embed1 = model.encode(text1)['dense_vecs']\n",
    "embed2 = model.encode(text2)['dense_vecs']"
   ]
  },
  {
   "cell_type": "code",
   "execution_count": 9,
   "metadata": {},
   "outputs": [
    {
     "data": {
      "text/plain": [
       "0.7722125470883906"
      ]
     },
     "execution_count": 9,
     "metadata": {},
     "output_type": "execute_result"
    }
   ],
   "source": [
    "cosine_scores = 1 - (paired_cosine_distances(embed1, embed2))\n",
    "eval_spearman_cosine, _ = spearmanr(label, cosine_scores)\n",
    "eval_spearman_cosine"
   ]
  },
  {
   "cell_type": "code",
   "execution_count": null,
   "metadata": {},
   "outputs": [],
   "source": []
  }
 ],
 "metadata": {
  "kernelspec": {
   "display_name": "Python 3 (ipykernel)",
   "language": "python",
   "name": "python3"
  },
  "language_info": {
   "codemirror_mode": {
    "name": "ipython",
    "version": 3
   },
   "file_extension": ".py",
   "mimetype": "text/x-python",
   "name": "python",
   "nbconvert_exporter": "python",
   "pygments_lexer": "ipython3",
   "version": "3.8.10"
  }
 },
 "nbformat": 4,
 "nbformat_minor": 4
}
