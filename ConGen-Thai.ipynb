{
 "cells": [
  {
   "cell_type": "code",
   "execution_count": null,
   "id": "08c3cdaa",
   "metadata": {
    "scrolled": true
   },
   "outputs": [],
   "source": [
    "!pip install git+https://github.com/KornWtp/ConGen.git"
   ]
  },
  {
   "cell_type": "code",
   "execution_count": null,
   "id": "2e949690",
   "metadata": {},
   "outputs": [],
   "source": [
    "import os\n",
    "import logging\n",
    "from datetime import datetime\n",
    "import io\n",
    "import math\n",
    "import numpy as np\n",
    "import random\n",
    "from glob import glob \n",
    "import pickle\n",
    "\n",
    "import torch\n",
    "from torch.utils.data import DataLoader\n",
    "import torch.nn as nn\n",
    "import torch.nn.functional as F\n",
    "from sentence_transformers import models\n",
    "from sentence_transformers import LoggingHandler, util, InputExample\n",
    "from sentence_transformers.evaluation import EmbeddingSimilarityEvaluator\n",
    "\n",
    "from sentence_transformers_congen import SentenceTransformer, losses"
   ]
  },
  {
   "cell_type": "code",
   "execution_count": null,
   "id": "edcf2c4c",
   "metadata": {},
   "outputs": [],
   "source": [
    "device = \"cuda\" if torch.cuda.is_available() else \"cpu\"\n",
    "\n",
    "SEED = 1000\n",
    "torch.manual_seed(SEED)\n",
    "random.seed(SEED)\n",
    "np.random.seed(SEED)"
   ]
  },
  {
   "cell_type": "markdown",
   "id": "9b73b3fe",
   "metadata": {},
   "source": [
    "# ตั้งค่า parameters\n",
    "Best paramerters: https://github.com/KornWtp/ConGen#parameters-1"
   ]
  },
  {
   "cell_type": "code",
   "execution_count": null,
   "id": "60948ad6",
   "metadata": {},
   "outputs": [],
   "source": [
    "max_seq_length = 128\n",
    "train_batch_size = 128\n",
    "num_epochs = 20\n",
    "early_stopping_patience = 7\n",
    "queue_size = 65536\n",
    "student_temp = 0.5\n",
    "teacher_temp = 0.5\n",
    "learning_rate = 1e-4"
   ]
  },
  {
   "cell_type": "markdown",
   "id": "8af195f9",
   "metadata": {},
   "source": [
    "# โหลด Teacher model"
   ]
  },
  {
   "cell_type": "code",
   "execution_count": null,
   "id": "e4317178",
   "metadata": {},
   "outputs": [],
   "source": [
    "teacher_model_name_or_path = \"sentence-transformers/paraphrase-multilingual-mpnet-base-v2\"\n",
    "teacher_model = SentenceTransformer(teacher_model_name_or_path)"
   ]
  },
  {
   "cell_type": "markdown",
   "id": "ed2b30d5",
   "metadata": {},
   "source": [
    "# โหลด dataset\n",
    "Link: https://drive.google.com/file/d/1u7kCk9xpTfQkxpJ0zfILpo9SR5KNMfaj/view?usp=share_link"
   ]
  },
  {
   "cell_type": "code",
   "execution_count": null,
   "id": "1374fc63",
   "metadata": {},
   "outputs": [],
   "source": [
    "train_data_path = \"back_translated_mt_scb_2020.txt\"\n",
    "all_pairs = open(train_data_path, mode=\"rt\", encoding=\"utf-8\").readlines()\n",
    "all_pairs = [sample.strip().split('\\t') for sample in all_pairs]\n",
    "# Two lists of sentences\n",
    "sents1 = [p[0] for p in all_pairs]\n",
    "sents2 = [p[1] for p in all_pairs]\n",
    "\n",
    "\n",
    "try:\n",
    "\tfilename = open(\"data/sents1_encoded.pkl\", \"rb\")\n",
    "\tsents1_encoded = pickle.load(filename)\n",
    "\tfilename.close()\n",
    "except:\n",
    "\tsents1_encoded = teacher_model.encode(sents1, convert_to_tensor=True, normalize_embeddings=True, device=device)\n",
    "\tfilename = 'data/sents1_encoded.pkl'\n",
    "\tpickle.dump(sents1_encoded, open(filename, 'wb'), protocol=4)\n",
    "teacher_dimension = sents1_encoded.shape[1]"
   ]
  },
  {
   "cell_type": "markdown",
   "id": "462a782a",
   "metadata": {},
   "source": [
    "# โหลด Student model"
   ]
  },
  {
   "cell_type": "code",
   "execution_count": null,
   "id": "4b81bf3b",
   "metadata": {},
   "outputs": [],
   "source": [
    "student_model_name_or_path = \"airesearch/wangchanberta-base-att-spm-uncased\"\n",
    "student_word_embedding_model = models.Transformer(student_model_name_or_path, max_seq_length=max_seq_length)\n",
    "student_dimension = student_word_embedding_model.get_word_embedding_dimension()\n",
    "student_pooling_model = models.Pooling(student_dimension)\n",
    "dense_model = models.Dense(in_features=student_dimension, out_features=teacher_dimension, activation_function=nn.Tanh())\n",
    "student_model = SentenceTransformer(modules=[student_word_embedding_model, student_pooling_model, dense_model])"
   ]
  },
  {
   "cell_type": "markdown",
   "id": "70690692",
   "metadata": {},
   "source": [
    "# สร้าง instance queue\n",
    "instance queue คืออะไร? รายละเอียดอยู่ใน https://github.com/KornWtp/ConGen/blob/main/ConGen__Unsupervised_Control_and_Generalization_Distillation_For_Sentence_Representation.pdf Section ที่ 3.2"
   ]
  },
  {
   "cell_type": "code",
   "execution_count": null,
   "id": "409b1daf",
   "metadata": {},
   "outputs": [],
   "source": [
    "text_in_queue = np.random.RandomState(16349).choice(sents1, queue_size, replace=False)\n",
    "train_samples = []\n",
    "instance_queue = []\n",
    "text_in_q_set = set(text_in_queue)\n",
    "for s1, s2, s1_encoded in zip(sents1, sents2, sents1_encoded): \n",
    "\tif s1 not in text_in_q_set:\n",
    "\t\ttrain_samples.append(InputExample(texts=[s1, s2], label=s1_encoded))\n",
    "\telse:\n",
    "\t\tinstance_queue.append(s1)\n",
    "train_dataloader = DataLoader(train_samples, shuffle=True, batch_size=train_batch_size)\n",
    "\n",
    "instance_queue_encoded = teacher_model.encode(instance_queue, \n",
    "\t\t\t\t\t\t\t\t\tconvert_to_tensor=True,\n",
    "\t\t\t\t\t\t\t\t\tnormalize_embeddings=True, \n",
    "\t\t\t\t\t\t\t\t\tdevice=device)\n",
    "\n",
    "training_loss = losses.ConGenLoss(instanceQ_encoded=instance_queue_encoded,  \n",
    "\t\t\t\t\t\t\t\tmodel=student_model,\n",
    "\t\t\t\t\t\t\t\tstudent_temp=student_temp, \n",
    "\t\t\t\t\t\t\t\tteacher_temp=teacher_temp)\n",
    "\n",
    "del instance_queue, sents1_encoded, teacher_model, instance_queue_encoded\t\t\t\t\t\n",
    "\n",
    "warmup_steps = math.ceil(len(train_dataloader) * num_epochs * 0.1)  # 10% of train data for warm-up\n"
   ]
  },
  {
   "cell_type": "markdown",
   "id": "2e863787",
   "metadata": {},
   "source": [
    "# Train model"
   ]
  },
  {
   "cell_type": "code",
   "execution_count": null,
   "id": "b1828894",
   "metadata": {},
   "outputs": [],
   "source": [
    "student_model.fit(train_objectives=[(train_dataloader, training_loss)],\n",
    "        epochs=num_epochs,\n",
    "        warmup_steps=warmup_steps,\n",
    "        output_path=\"congen-model-thai\",\n",
    "        optimizer_params={\"lr\": learning_rate, 'eps': 1e-6, 'correct_bias': False},\n",
    "        use_amp=True,\n",
    "        save_best_model=True,\n",
    "        early_stopping_patience=early_stopping_patience)"
   ]
  },
  {
   "cell_type": "code",
   "execution_count": null,
   "id": "924af1f3",
   "metadata": {},
   "outputs": [],
   "source": []
  }
 ],
 "metadata": {
  "kernelspec": {
   "display_name": "Python 3 (ipykernel)",
   "language": "python",
   "name": "python3"
  },
  "language_info": {
   "codemirror_mode": {
    "name": "ipython",
    "version": 3
   },
   "file_extension": ".py",
   "mimetype": "text/x-python",
   "name": "python",
   "nbconvert_exporter": "python",
   "pygments_lexer": "ipython3",
   "version": "3.7.13"
  }
 },
 "nbformat": 4,
 "nbformat_minor": 5
}
