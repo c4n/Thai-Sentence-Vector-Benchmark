{
 "cells": [
  {
   "cell_type": "code",
   "execution_count": 1,
   "metadata": {},
   "outputs": [],
   "source": [
    "from sentence_transformers import SentenceTransformer\n",
    "from sklearn.metrics.pairwise import paired_cosine_distances\n",
    "from scipy.stats import pearsonr, spearmanr\n",
    "import numpy as np\n",
    "from sklearn.metrics import roc_auc_score\n",
    "import pandas as pd"
   ]
  },
  {
   "cell_type": "code",
   "execution_count": 2,
   "metadata": {},
   "outputs": [],
   "source": [
    "def cal_score(dataset, model):\n",
    "    # dataset : [sentence1, sentence2, label(0 or 1)]\n",
    "    sentence1, sentence2, label = zip(*dataset)\n",
    "    \n",
    "    embeddings1 = model.encode(sentence1, show_progress_bar=False, convert_to_numpy=True,normalize_embeddings=True)\n",
    "    embeddings2 = model.encode(sentence2, show_progress_bar=False, convert_to_numpy=True,normalize_embeddings=True)\n",
    "    labels = [int(x) for x in label]\n",
    "\n",
    "    cosine_scores = 1 - (paired_cosine_distances(embeddings1, embeddings2))\n",
    "    eval_auc_cosine = roc_auc_score(labels, cosine_scores)\n",
    "\n",
    "    return eval_auc_cosine"
   ]
  },
  {
   "cell_type": "code",
   "execution_count": 3,
   "metadata": {},
   "outputs": [
    {
     "name": "stderr",
     "output_type": "stream",
     "text": [
      "No sentence-transformers model found with name /root/.cache/torch/sentence_transformers/kornwtp_ConGen-simcse-model-roberta-base-thai. Creating a new one with MEAN pooling.\n"
     ]
    }
   ],
   "source": [
    "model_name = 'kornwtp/ConGen-simcse-model-roberta-base-thai' # kornwtp/ConGen-simcse-model-roberta-base-thai\n",
    "model = SentenceTransformer(model_name)\n",
    "model.max_seq_length = 200"
   ]
  },
  {
   "cell_type": "markdown",
   "metadata": {},
   "source": [
    "# Run data_set = 'test' and 'dev'"
   ]
  },
  {
   "cell_type": "code",
   "execution_count": 4,
   "metadata": {},
   "outputs": [
    {
     "name": "stdout",
     "output_type": "stream",
     "text": [
      "AUC score:0.6672\n"
     ]
    }
   ],
   "source": [
    "path = 'XNLI-1.0/xnli.{}.tsv' # download from https://dl.fbaipublicfiles.com/XNLI/XNLI-1.0.zip\n",
    "data_set = 'test'\n",
    "\n",
    "df = pd.read_csv(path.format(data_set),sep='\\t')\n",
    "df.loc[(df['language']=='th') & (df['gold_label']=='contradiction'),'label'] = '0'\n",
    "df.loc[(df['language']=='th') & (df['gold_label']=='entailment'),'label'] = '1'\n",
    "\n",
    "dataset = df[(df['language']=='th') & (df['gold_label']!='neutral')][['sentence1','sentence2','label']].values.tolist()\n",
    "\n",
    "score = cal_score(dataset, model)\n",
    "print(f\"AUC score:{score:.4f}\")"
   ]
  },
  {
   "cell_type": "code",
   "execution_count": 5,
   "metadata": {},
   "outputs": [
    {
     "name": "stdout",
     "output_type": "stream",
     "text": [
      "AUC score:0.6719\n"
     ]
    }
   ],
   "source": [
    "path = 'XNLI-1.0/xnli.{}.tsv' # download from https://dl.fbaipublicfiles.com/XNLI/XNLI-1.0.zip\n",
    "data_set = 'dev'\n",
    "\n",
    "df = pd.read_csv(path.format(data_set),sep='\\t')\n",
    "df.loc[(df['language']=='th') & (df['gold_label']=='contradiction'),'label'] = '0'\n",
    "df.loc[(df['language']=='th') & (df['gold_label']=='entailment'),'label'] = '1'\n",
    "\n",
    "dataset = df[(df['language']=='th') & (df['gold_label']!='neutral')][['sentence1','sentence2','label']].values.tolist()\n",
    "\n",
    "score = cal_score(dataset, model)\n",
    "print(f\"AUC score:{score:.4f}\")"
   ]
  },
  {
   "cell_type": "code",
   "execution_count": null,
   "metadata": {},
   "outputs": [],
   "source": []
  }
 ],
 "metadata": {
  "kernelspec": {
   "display_name": "Python 3",
   "language": "python",
   "name": "python3"
  },
  "language_info": {
   "codemirror_mode": {
    "name": "ipython",
    "version": 3
   },
   "file_extension": ".py",
   "mimetype": "text/x-python",
   "name": "python",
   "nbconvert_exporter": "python",
   "pygments_lexer": "ipython3",
   "version": "3.6.9"
  }
 },
 "nbformat": 4,
 "nbformat_minor": 2
}
