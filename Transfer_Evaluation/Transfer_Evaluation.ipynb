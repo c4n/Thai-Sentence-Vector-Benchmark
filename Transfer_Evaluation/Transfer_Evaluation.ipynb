{
 "cells": [
  {
   "cell_type": "code",
   "execution_count": 1,
   "metadata": {},
   "outputs": [],
   "source": [
    "import os"
   ]
  },
  {
   "cell_type": "code",
   "execution_count": 2,
   "metadata": {},
   "outputs": [],
   "source": [
    "from transfer import Transfer"
   ]
  },
  {
   "cell_type": "markdown",
   "metadata": {},
   "source": [
    "## Transfer Tasks (Sentiment Analysis)\n",
    "### 1. Wisesight\n",
    "### 2. Wongnai Reviews\n",
    "### 3. Generated Reviews (EN-TH)"
   ]
  },
  {
   "cell_type": "code",
   "execution_count": 3,
   "metadata": {},
   "outputs": [],
   "source": [
    "from sentence_transformers import SentenceTransformer\n",
    "model_name = 'mrp/simcse-model-distil-m-bert'\n",
    "# Load a named sentence model (based on BERT). This will download the model from our server.\n",
    "# Alternatively, you can also pass a filepath to SentenceTransformer()\n",
    "model = SentenceTransformer(model_name)"
   ]
  },
  {
   "cell_type": "code",
   "execution_count": 4,
   "metadata": {},
   "outputs": [],
   "source": [
    "task_names = ['wisesight_sentiment','wongnai_reviews','generated_reviews_enth']\n",
    "transfer_run = Transfer(model,task_names)"
   ]
  },
  {
   "cell_type": "code",
   "execution_count": 5,
   "metadata": {},
   "outputs": [
    {
     "name": "stderr",
     "output_type": "stream",
     "text": [
      "Reusing dataset wisesight_sentiment (/root/.cache/huggingface/datasets/wisesight_sentiment/wisesight_sentiment/1.0.0/4bb1772cff1a0703d72fb9e84dff9348e80f6cdf80b0f6c0f59bcd85fc5a3537)\n",
      "Using custom data configuration default\n",
      "Reusing dataset wongnai_reviews (/root/.cache/huggingface/datasets/wongnai_reviews/default/1.0.1/606484742fe0f96967d31a69a6f80c970828f89c08badf47d4a67737e65d1953)\n",
      "Reusing dataset generated_reviews_enth (/root/.cache/huggingface/datasets/generated_reviews_enth/generated_reviews_enth/1.0.0/6118765c366071f4d7a4504d9278e331778d23edae49951eab97a174effe0b76)\n",
      "/usr/local/lib/python3.6/dist-packages/sklearn/svm/_base.py:986: ConvergenceWarning: Liblinear failed to converge, increase the number of iterations.\n",
      "  \"the number of iterations.\", ConvergenceWarning)\n"
     ]
    },
    {
     "name": "stdout",
     "output_type": "stream",
     "text": [
      "Dataset: wisesight_sentiment Set: Test\n",
      "              precision    recall  f1-score   support\n",
      "\n",
      "           0     0.3919    0.3870    0.3895       478\n",
      "           1     0.6748    0.6084    0.6399      1453\n",
      "           2     0.5044    0.5857    0.5420       683\n",
      "           3     0.1042    0.1754    0.1307        57\n",
      "\n",
      "    accuracy                         0.5537      2671\n",
      "   macro avg     0.4188    0.4391    0.4255      2671\n",
      "weighted avg     0.5684    0.5537    0.5592      2671\n",
      "\n",
      "**************************************************\n"
     ]
    },
    {
     "name": "stderr",
     "output_type": "stream",
     "text": [
      "/usr/local/lib/python3.6/dist-packages/sklearn/svm/_base.py:986: ConvergenceWarning: Liblinear failed to converge, increase the number of iterations.\n",
      "  \"the number of iterations.\", ConvergenceWarning)\n"
     ]
    },
    {
     "name": "stdout",
     "output_type": "stream",
     "text": [
      "Dataset: wongnai_reviews Set: Test\n",
      "              precision    recall  f1-score   support\n",
      "\n",
      "           0     0.0137    0.0400    0.0204        50\n",
      "           1     0.0345    0.0874    0.0495       206\n",
      "           2     0.3438    0.2917    0.3156      1906\n",
      "           3     0.4909    0.4958    0.4933      2977\n",
      "           4     0.2368    0.2030    0.2186      1064\n",
      "\n",
      "    accuracy                         0.3656      6203\n",
      "   macro avg     0.2240    0.2236    0.2195      6203\n",
      "weighted avg     0.3831    0.3656    0.3731      6203\n",
      "\n",
      "**************************************************\n"
     ]
    },
    {
     "name": "stderr",
     "output_type": "stream",
     "text": [
      "/usr/local/lib/python3.6/dist-packages/sklearn/svm/_base.py:986: ConvergenceWarning: Liblinear failed to converge, increase the number of iterations.\n",
      "  \"the number of iterations.\", ConvergenceWarning)\n"
     ]
    },
    {
     "name": "stdout",
     "output_type": "stream",
     "text": [
      "Dataset: generated_reviews_enth Set: Test\n",
      "              precision    recall  f1-score   support\n",
      "\n",
      "           1     0.5073    0.5378    0.5221      6225\n",
      "           2     0.2798    0.2383    0.2574      2778\n",
      "           3     0.3042    0.1977    0.2396      2767\n",
      "           4     0.2647    0.2006    0.2282      2831\n",
      "           5     0.3427    0.5459    0.4211      2852\n",
      "\n",
      "    accuracy                         0.3829     17453\n",
      "   macro avg     0.3397    0.3441    0.3337     17453\n",
      "weighted avg     0.3726    0.3829    0.3710     17453\n",
      "\n",
      "**************************************************\n"
     ]
    }
   ],
   "source": [
    "transfer_run.run()"
   ]
  }
 ],
 "metadata": {
  "kernelspec": {
   "display_name": "Python 3",
   "language": "python",
   "name": "python3"
  },
  "language_info": {
   "codemirror_mode": {
    "name": "ipython",
    "version": 3
   },
   "file_extension": ".py",
   "mimetype": "text/x-python",
   "name": "python",
   "nbconvert_exporter": "python",
   "pygments_lexer": "ipython3",
   "version": "3.6.9"
  }
 },
 "nbformat": 4,
 "nbformat_minor": 2
}
