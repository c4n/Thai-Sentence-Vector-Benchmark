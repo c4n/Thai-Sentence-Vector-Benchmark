{
 "cells": [
  {
   "cell_type": "code",
   "execution_count": 12,
   "id": "08c3cdaa",
   "metadata": {
    "scrolled": true
   },
   "outputs": [
    {
     "name": "stdout",
     "output_type": "stream",
     "text": [
      "Collecting git+https://github.com/mrpeerat/SCT\n",
      "  Cloning https://github.com/mrpeerat/SCT to /tmp/pip-req-build-m6iw3no0\n",
      "Requirement already satisfied (use --upgrade to upgrade): sentence-transformers==2.1.0 from git+https://github.com/mrpeerat/SCT in /usr/local/lib/python3.6/dist-packages\n",
      "Requirement already satisfied: transformers<5.0.0,>=4.6.0 in /usr/local/lib/python3.6/dist-packages (from sentence-transformers==2.1.0) (4.9.0)\n",
      "Requirement already satisfied: tokenizers>=0.10.3 in /usr/local/lib/python3.6/dist-packages (from sentence-transformers==2.1.0) (0.10.3)\n",
      "Requirement already satisfied: tqdm in /usr/local/lib/python3.6/dist-packages (from sentence-transformers==2.1.0) (4.64.1)\n",
      "Requirement already satisfied: torch>=1.6.0 in /usr/local/lib/python3.6/dist-packages (from sentence-transformers==2.1.0) (1.8.1)\n",
      "Requirement already satisfied: torchvision in /usr/local/lib/python3.6/dist-packages (from sentence-transformers==2.1.0) (0.11.2)\n",
      "Requirement already satisfied: numpy in /usr/local/lib/python3.6/dist-packages (from sentence-transformers==2.1.0) (1.19.5)\n",
      "Requirement already satisfied: scikit-learn in /usr/local/lib/python3.6/dist-packages (from sentence-transformers==2.1.0) (0.24.2)\n",
      "Requirement already satisfied: scipy in /usr/local/lib/python3.6/dist-packages (from sentence-transformers==2.1.0) (1.5.4)\n",
      "Requirement already satisfied: nltk in /usr/local/lib/python3.6/dist-packages (from sentence-transformers==2.1.0) (3.6.7)\n",
      "Requirement already satisfied: sentencepiece in /usr/local/lib/python3.6/dist-packages (from sentence-transformers==2.1.0) (0.1.98)\n",
      "Requirement already satisfied: huggingface-hub in /usr/local/lib/python3.6/dist-packages (from sentence-transformers==2.1.0) (0.4.0)\n",
      "Requirement already satisfied: protobuf in /usr/local/lib/python3.6/dist-packages (from sentence-transformers==2.1.0) (3.19.6)\n",
      "Requirement already satisfied: prettytable in /usr/local/lib/python3.6/dist-packages (from sentence-transformers==2.1.0) (2.5.0)\n",
      "Requirement already satisfied: pandas in /usr/local/lib/python3.6/dist-packages (from sentence-transformers==2.1.0) (1.1.5)\n",
      "Requirement already satisfied: importlib-metadata; python_version < \"3.8\" in /usr/local/lib/python3.6/dist-packages (from transformers<5.0.0,>=4.6.0->sentence-transformers==2.1.0) (4.0.1)\n",
      "Requirement already satisfied: pyyaml>=5.1 in /usr/local/lib/python3.6/dist-packages (from transformers<5.0.0,>=4.6.0->sentence-transformers==2.1.0) (6.0)\n",
      "Requirement already satisfied: filelock in /usr/local/lib/python3.6/dist-packages (from transformers<5.0.0,>=4.6.0->sentence-transformers==2.1.0) (3.4.1)\n",
      "Requirement already satisfied: dataclasses; python_version < \"3.7\" in /usr/local/lib/python3.6/dist-packages (from transformers<5.0.0,>=4.6.0->sentence-transformers==2.1.0) (0.8)\n",
      "Requirement already satisfied: sacremoses in /usr/local/lib/python3.6/dist-packages (from transformers<5.0.0,>=4.6.0->sentence-transformers==2.1.0) (0.0.53)\n",
      "Requirement already satisfied: packaging in /usr/local/lib/python3.6/dist-packages (from transformers<5.0.0,>=4.6.0->sentence-transformers==2.1.0) (20.9)\n",
      "Requirement already satisfied: regex!=2019.12.17 in /usr/local/lib/python3.6/dist-packages (from transformers<5.0.0,>=4.6.0->sentence-transformers==2.1.0) (2022.10.31)\n",
      "Requirement already satisfied: requests in /usr/local/lib/python3.6/dist-packages (from transformers<5.0.0,>=4.6.0->sentence-transformers==2.1.0) (2.25.1)\n",
      "Requirement already satisfied: importlib-resources; python_version < \"3.7\" in /usr/local/lib/python3.6/dist-packages (from tqdm->sentence-transformers==2.1.0) (5.4.0)\n",
      "Requirement already satisfied: typing-extensions in /usr/local/lib/python3.6/dist-packages (from torch>=1.6.0->sentence-transformers==2.1.0) (4.1.1)\n",
      "Requirement already satisfied: pillow!=8.3.0,>=5.3.0 in /usr/local/lib/python3.6/dist-packages (from torchvision->sentence-transformers==2.1.0) (8.2.0)\n",
      "Requirement already satisfied: threadpoolctl>=2.0.0 in /usr/local/lib/python3.6/dist-packages (from scikit-learn->sentence-transformers==2.1.0) (3.1.0)\n",
      "Requirement already satisfied: joblib>=0.11 in /usr/local/lib/python3.6/dist-packages (from scikit-learn->sentence-transformers==2.1.0) (1.1.1)\n",
      "Requirement already satisfied: click in /usr/local/lib/python3.6/dist-packages (from nltk->sentence-transformers==2.1.0) (8.0.4)\n",
      "Requirement already satisfied: wcwidth in /usr/local/lib/python3.6/dist-packages (from prettytable->sentence-transformers==2.1.0) (0.2.5)\n",
      "Requirement already satisfied: python-dateutil>=2.7.3 in /usr/local/lib/python3.6/dist-packages (from pandas->sentence-transformers==2.1.0) (2.8.1)\n",
      "Requirement already satisfied: pytz>=2017.2 in /usr/local/lib/python3.6/dist-packages (from pandas->sentence-transformers==2.1.0) (2023.3)\n",
      "Requirement already satisfied: zipp>=0.5 in /usr/local/lib/python3.6/dist-packages (from importlib-metadata; python_version < \"3.8\"->transformers<5.0.0,>=4.6.0->sentence-transformers==2.1.0) (3.4.1)\n",
      "Requirement already satisfied: six in /usr/local/lib/python3.6/dist-packages (from sacremoses->transformers<5.0.0,>=4.6.0->sentence-transformers==2.1.0) (1.15.0)\n",
      "Requirement already satisfied: pyparsing>=2.0.2 in /usr/local/lib/python3.6/dist-packages (from packaging->transformers<5.0.0,>=4.6.0->sentence-transformers==2.1.0) (2.4.7)\n",
      "Requirement already satisfied: chardet<5,>=3.0.2 in /usr/local/lib/python3.6/dist-packages (from requests->transformers<5.0.0,>=4.6.0->sentence-transformers==2.1.0) (4.0.0)\n",
      "Requirement already satisfied: certifi>=2017.4.17 in /usr/local/lib/python3.6/dist-packages (from requests->transformers<5.0.0,>=4.6.0->sentence-transformers==2.1.0) (2020.12.5)\n",
      "Requirement already satisfied: urllib3<1.27,>=1.21.1 in /usr/local/lib/python3.6/dist-packages (from requests->transformers<5.0.0,>=4.6.0->sentence-transformers==2.1.0) (1.26.4)\n",
      "Requirement already satisfied: idna<3,>=2.5 in /usr/lib/python3/dist-packages (from requests->transformers<5.0.0,>=4.6.0->sentence-transformers==2.1.0) (2.6)\n",
      "Building wheels for collected packages: sentence-transformers\n",
      "  Building wheel for sentence-transformers (setup.py) ... \u001b[?25ldone\n",
      "\u001b[?25h  Created wheel for sentence-transformers: filename=sentence_transformers-2.1.0-py3-none-any.whl size=168236 sha256=6fb37ed0e39582a1602ccca3cfb125a29a02d38a5c0310dd75be2007bdfa26d4\n",
      "  Stored in directory: /tmp/pip-ephem-wheel-cache-_kau24ag/wheels/74/6f/d8/f729b08480a286791bebe8a348b976f35e5b70a74fbbb38e5c\n",
      "Successfully built sentence-transformers\n",
      "\u001b[33mWARNING: You are using pip version 20.2.4; however, version 21.3.1 is available.\n",
      "You should consider upgrading via the '/usr/bin/python3 -m pip install --upgrade pip' command.\u001b[0m\n"
     ]
    }
   ],
   "source": [
    "!pip install git+https://github.com/mrpeerat/SCT"
   ]
  },
  {
   "cell_type": "code",
   "execution_count": 1,
   "metadata": {},
   "outputs": [],
   "source": [
    "import os\n",
    "os.environ[\"CUDA_VISIBLE_DEVICES\"] = \"1\""
   ]
  },
  {
   "cell_type": "code",
   "execution_count": 13,
   "id": "2e949690",
   "metadata": {},
   "outputs": [],
   "source": [
    "import os\n",
    "import logging\n",
    "from datetime import datetime\n",
    "import io\n",
    "import math\n",
    "import numpy as np\n",
    "import random\n",
    "from glob import glob \n",
    "import pickle\n",
    "import pandas as pd\n",
    "\n",
    "import torch\n",
    "from torch.utils.data import DataLoader\n",
    "import torch.nn as nn\n",
    "import torch.nn.functional as F\n",
    "from sentence_transformers import models\n",
    "from sentence_transformers import LoggingHandler, util, InputExample\n",
    "from sentence_transformers.evaluation import EmbeddingSimilarityEvaluator\n",
    "\n",
    "from sentence_transformers import SentenceTransformer, losses"
   ]
  },
  {
   "cell_type": "code",
   "execution_count": 3,
   "id": "edcf2c4c",
   "metadata": {},
   "outputs": [],
   "source": [
    "device = \"cuda\" if torch.cuda.is_available() else \"cpu\"\n",
    "\n",
    "SEED = 1000\n",
    "torch.manual_seed(SEED)\n",
    "random.seed(SEED)\n",
    "np.random.seed(SEED)"
   ]
  },
  {
   "cell_type": "markdown",
   "id": "9b73b3fe",
   "metadata": {},
   "source": [
    "# ตั้งค่า parameters\n",
    "Best paramerters: https://github.com/mrpeerat/SCT#parameters"
   ]
  },
  {
   "cell_type": "code",
   "execution_count": 4,
   "id": "60948ad6",
   "metadata": {},
   "outputs": [],
   "source": [
    "max_seq_length = 128\n",
    "train_batch_size = 128\n",
    "num_epochs = 20\n",
    "early_stopping_patience = 7\n",
    "queue_size = 65536\n",
    "student_temp = 0.5\n",
    "teacher_temp = 0.5\n",
    "learning_rate = 1e-4\n",
    "eval_batch_size = 16\n",
    "model_save_path = 'SCT_model'"
   ]
  },
  {
   "cell_type": "markdown",
   "id": "8af195f9",
   "metadata": {},
   "source": [
    "# โหลด Teacher model"
   ]
  },
  {
   "cell_type": "code",
   "execution_count": 5,
   "id": "e4317178",
   "metadata": {},
   "outputs": [],
   "source": [
    "teacher_model_name_or_path = \"sentence-transformers/paraphrase-multilingual-mpnet-base-v2\"\n",
    "teacher_model = SentenceTransformer(teacher_model_name_or_path)"
   ]
  },
  {
   "cell_type": "markdown",
   "id": "ed2b30d5",
   "metadata": {},
   "source": [
    "# โหลด dataset\n",
    "Link: https://drive.google.com/file/d/1u7kCk9xpTfQkxpJ0zfILpo9SR5KNMfaj/view?usp=share_link"
   ]
  },
  {
   "cell_type": "code",
   "execution_count": 6,
   "metadata": {},
   "outputs": [],
   "source": [
    "train_data_path = \"back_translated_mt_sct_2020.txt\"\n",
    "all_pairs = open(train_data_path, mode=\"rt\", encoding=\"utf-8\").readlines()\n",
    "all_pairs = [sample.strip().split('\\t') for sample in all_pairs]\n",
    "# Two lists of sentences\n",
    "sents1 = [p[0] for p in all_pairs]\n",
    "sents2 = [p[1] for p in all_pairs]"
   ]
  },
  {
   "cell_type": "code",
   "execution_count": 7,
   "id": "1374fc63",
   "metadata": {},
   "outputs": [
    {
     "name": "stdout",
     "output_type": "stream",
     "text": [
      "Loading Sent1....\n",
      "Loading Sent1....\n"
     ]
    }
   ],
   "source": [
    "try:\n",
    "    print(f\"Loading Sent1....\")\n",
    "    filename = open(\"rep_s1.pkl\", \"rb\") \n",
    "    rep_s1 = pickle.load(filename)\n",
    "    filename.close()\n",
    "except:\n",
    "    rep_s1 = teacher_model.encode(sents1, convert_to_tensor=True, normalize_embeddings=True, device=device, show_progress_bar=True)\n",
    "    filename = 'rep_s1.pkl'\n",
    "    pickle.dump(rep_s1, open(filename, 'wb'), protocol=4)\n",
    "\n",
    "try:\n",
    "    print(f\"Loading Sent2....\")\n",
    "    filename = open(\"rep_s2.pkl\", \"rb\") \n",
    "    rep_s2 = pickle.load(filename)\n",
    "    filename.close()\n",
    "except:\n",
    "    rep_s2 = teacher_model.encode(sents2, convert_to_tensor=True, normalize_embeddings=True, device=device, show_progress_bar=True)\n",
    "    filename = 'rep_s2.pkl'\n",
    "    pickle.dump(rep_s2, open(filename, 'wb'), protocol=4)\n",
    "\n",
    "teacher_dimension = rep_s1.shape[1]"
   ]
  },
  {
   "cell_type": "markdown",
   "metadata": {},
   "source": [
    "# สร้าง data loader"
   ]
  },
  {
   "cell_type": "code",
   "execution_count": 8,
   "metadata": {},
   "outputs": [],
   "source": [
    "train_samples = []\n",
    "for en_text, non_en_text, en_teacher, non_en_teacher in zip(sents1, sents2, rep_s1, rep_s2): \n",
    "    train_samples.append(InputExample(texts=[en_text, non_en_text],label=[en_teacher,non_en_teacher]))\n",
    "\n",
    "train_dataloader = DataLoader(train_samples, shuffle=True, batch_size=train_batch_size)"
   ]
  },
  {
   "cell_type": "markdown",
   "id": "462a782a",
   "metadata": {},
   "source": [
    "# โหลด Student model"
   ]
  },
  {
   "cell_type": "code",
   "execution_count": 9,
   "id": "4b81bf3b",
   "metadata": {},
   "outputs": [
    {
     "data": {
      "application/vnd.jupyter.widget-view+json": {
       "model_id": "07d4241178cf4faea47e62297c29f048",
       "version_major": 2,
       "version_minor": 0
      },
      "text/plain": [
       "Downloading:   0%|          | 0.00/658 [00:00<?, ?B/s]"
      ]
     },
     "metadata": {},
     "output_type": "display_data"
    },
    {
     "data": {
      "application/vnd.jupyter.widget-view+json": {
       "model_id": "cfca1b02d5464df68d20b0c79e3c160a",
       "version_major": 2,
       "version_minor": 0
      },
      "text/plain": [
       "Downloading:   0%|          | 0.00/115M [00:00<?, ?B/s]"
      ]
     },
     "metadata": {},
     "output_type": "display_data"
    },
    {
     "data": {
      "application/vnd.jupyter.widget-view+json": {
       "model_id": "72ddf23a629c4d45a19712bb91bb8487",
       "version_major": 2,
       "version_minor": 0
      },
      "text/plain": [
       "Downloading:   0%|          | 0.00/388 [00:00<?, ?B/s]"
      ]
     },
     "metadata": {},
     "output_type": "display_data"
    },
    {
     "data": {
      "application/vnd.jupyter.widget-view+json": {
       "model_id": "63ae8a46fb884671867bfb291a79f1e3",
       "version_major": 2,
       "version_minor": 0
      },
      "text/plain": [
       "Downloading:   0%|          | 0.00/573k [00:00<?, ?B/s]"
      ]
     },
     "metadata": {},
     "output_type": "display_data"
    },
    {
     "data": {
      "application/vnd.jupyter.widget-view+json": {
       "model_id": "124069fab9044cba8f3de524cd3e2ba0",
       "version_major": 2,
       "version_minor": 0
      },
      "text/plain": [
       "Downloading:   0%|          | 0.00/808k [00:00<?, ?B/s]"
      ]
     },
     "metadata": {},
     "output_type": "display_data"
    },
    {
     "data": {
      "application/vnd.jupyter.widget-view+json": {
       "model_id": "1ef99aef099740e6977722527d9f378d",
       "version_major": 2,
       "version_minor": 0
      },
      "text/plain": [
       "Downloading:   0%|          | 0.00/112 [00:00<?, ?B/s]"
      ]
     },
     "metadata": {},
     "output_type": "display_data"
    }
   ],
   "source": [
    "# student_model_name_or_path = \"airesearch/wangchanberta-base-att-spm-uncased\"\n",
    "student_model_name_or_path = \"kornwtp/ConGen-WangchanBERT-Small\"\n",
    "\n",
    "student_word_embedding_model = models.Transformer(student_model_name_or_path, max_seq_length=max_seq_length)\n",
    "student_dimension = student_word_embedding_model.get_word_embedding_dimension()\n",
    "student_pooling_model = models.Pooling(student_dimension)\n",
    "if teacher_dimension != student_dimension:\n",
    "    dense_model = models.Dense(in_features=student_dimension, out_features=teacher_dimension, activation_function=nn.Tanh())\n",
    "    student_model = SentenceTransformer(modules=[student_word_embedding_model, student_pooling_model, dense_model])\n",
    "else:\n",
    "    student_model = SentenceTransformer(modules=[student_word_embedding_model, student_pooling_model])"
   ]
  },
  {
   "cell_type": "markdown",
   "id": "70690692",
   "metadata": {},
   "source": [
    "# สร้าง instance queue"
   ]
  },
  {
   "cell_type": "code",
   "execution_count": 10,
   "id": "409b1daf",
   "metadata": {},
   "outputs": [],
   "source": [
    "rep_instance_queue_edited_A = torch.randn(queue_size, teacher_dimension).to(device)\n",
    "rep_instance_queue_edited_A = F.normalize(rep_instance_queue_edited_A, p=2, dim=1)\n",
    "\n",
    "rep_instance_queue_edited_B = torch.randn(queue_size, teacher_dimension).to(device)\n",
    "rep_instance_queue_edited_B = F.normalize(rep_instance_queue_edited_B, p=2, dim=1)"
   ]
  },
  {
   "cell_type": "markdown",
   "metadata": {},
   "source": [
    "# เรียก training loss"
   ]
  },
  {
   "cell_type": "code",
   "execution_count": 14,
   "metadata": {},
   "outputs": [
    {
     "ename": "AttributeError",
     "evalue": "module 'sentence_transformers.losses' has no attribute 'SCTLoss_distillation'",
     "output_type": "error",
     "traceback": [
      "\u001b[0;31m---------------------------------------------------------------------------\u001b[0m",
      "\u001b[0;31mAttributeError\u001b[0m                            Traceback (most recent call last)",
      "\u001b[0;32m<ipython-input-14-b6ec7a1f3044>\u001b[0m in \u001b[0;36m<module>\u001b[0;34m\u001b[0m\n\u001b[0;32m----> 1\u001b[0;31m training_loss = losses.SCTLoss_distillation(instanceQ_A=rep_instance_queue_edited_A,  \n\u001b[0m\u001b[1;32m      2\u001b[0m                     \u001b[0minstanceQ_B\u001b[0m\u001b[0;34m=\u001b[0m\u001b[0mrep_instance_queue_edited_B\u001b[0m\u001b[0;34m,\u001b[0m\u001b[0;34m\u001b[0m\u001b[0;34m\u001b[0m\u001b[0m\n\u001b[1;32m      3\u001b[0m                     \u001b[0mmodel\u001b[0m\u001b[0;34m=\u001b[0m\u001b[0mstudent_model\u001b[0m\u001b[0;34m,\u001b[0m\u001b[0;34m\u001b[0m\u001b[0;34m\u001b[0m\u001b[0m\n\u001b[1;32m      4\u001b[0m                     \u001b[0mstudent_temp\u001b[0m\u001b[0;34m=\u001b[0m\u001b[0mstudent_temp\u001b[0m\u001b[0;34m,\u001b[0m\u001b[0;34m\u001b[0m\u001b[0;34m\u001b[0m\u001b[0m\n\u001b[1;32m      5\u001b[0m                     \u001b[0mteacher_temp\u001b[0m\u001b[0;34m=\u001b[0m\u001b[0mteacher_temp\u001b[0m\u001b[0;34m,\u001b[0m\u001b[0;34m\u001b[0m\u001b[0;34m\u001b[0m\u001b[0m\n",
      "\u001b[0;31mAttributeError\u001b[0m: module 'sentence_transformers.losses' has no attribute 'SCTLoss_distillation'"
     ]
    }
   ],
   "source": [
    "training_loss = losses.SCTLoss_distillation(instanceQ_A=rep_instance_queue_edited_A,  \n",
    "                    instanceQ_B=rep_instance_queue_edited_B, \n",
    "                    model=student_model,\n",
    "                    student_temp=student_temp, \n",
    "                    teacher_temp=teacher_temp, \n",
    "                    device=device,\n",
    "                    sentence_embedding_dimension=teacher_dimension,\n",
    "                    path_model=model_save_path)\n",
    "warmup_steps = math.ceil(len(train_dataloader) * num_epochs * 0.1)  # 10% of train data for warm-up\n"
   ]
  },
  {
   "cell_type": "markdown",
   "metadata": {},
   "source": [
    "# สร้าง evaluator"
   ]
  },
  {
   "cell_type": "code",
   "execution_count": 15,
   "metadata": {},
   "outputs": [],
   "source": [
    "evaluation_steps = 64\n",
    "dev_samples = []\n",
    "dev_df = pd.read_csv(\"sts-test_th.csv\",header=None,names=['type','datasets','set','raw_score','score','sent1','sent2']) # https://github.com/mrpeerat/Thai-Sentence-Vector-Benchmark/blob/main/sts-test_th.csv\n",
    "for text in dev_df.values.tolist():   \n",
    "    sentence1 = text[5]\n",
    "    sentence2 = text[6]\n",
    "    score = float(text[4]) / 5.0  #Normalize score to range 0 ... 1\n",
    "    dev_samples.append(InputExample(texts=[sentence1, sentence2], label=score))\n",
    "\n",
    "dev_evaluator = EmbeddingSimilarityEvaluator.from_input_examples(dev_samples, batch_size=eval_batch_size, name='sts-dev')\n"
   ]
  },
  {
   "cell_type": "markdown",
   "id": "2e863787",
   "metadata": {},
   "source": [
    "# Train model"
   ]
  },
  {
   "cell_type": "code",
   "execution_count": null,
   "id": "b1828894",
   "metadata": {},
   "outputs": [],
   "source": [
    "student_model.fit(train_objectives=[(train_dataloader, training_loss)],\n",
    "            evaluator=dev_evaluator,\n",
    "            epochs=num_epochs,\n",
    "            warmup_steps=warmup_steps,\n",
    "            evaluation_steps=evaluation_steps,\n",
    "            output_path=model_save_path,\n",
    "            optimizer_params={\"lr\": learning_rate, 'eps': 1e-6, 'correct_bias': False},\n",
    "            use_amp=True,\n",
    "            early_stopping_patience=early_stopping_patience)"
   ]
  },
  {
   "cell_type": "code",
   "execution_count": null,
   "id": "924af1f3",
   "metadata": {},
   "outputs": [],
   "source": []
  }
 ],
 "metadata": {
  "kernelspec": {
   "display_name": "Python 3",
   "language": "python",
   "name": "python3"
  },
  "language_info": {
   "codemirror_mode": {
    "name": "ipython",
    "version": 3
   },
   "file_extension": ".py",
   "mimetype": "text/x-python",
   "name": "python",
   "nbconvert_exporter": "python",
   "pygments_lexer": "ipython3",
   "version": "3.6.9"
  }
 },
 "nbformat": 4,
 "nbformat_minor": 5
}
