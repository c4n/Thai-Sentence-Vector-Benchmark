{
 "cells": [
  {
   "cell_type": "code",
   "execution_count": 1,
   "metadata": {},
   "outputs": [],
   "source": [
    "import os\n",
    " \n",
    "os.environ[\"CUDA_VISIBLE_DEVICES\"]=\"1\"\n",
    "os.environ[\"HF_DATASETS_CACHE\"] = \"/workspace/cache\"\n",
    "os.environ[\"TRANSFORMERS_CACHE\"] = \"/workspace/cache\""
   ]
  },
  {
   "cell_type": "code",
   "execution_count": 3,
   "metadata": {
    "scrolled": true
   },
   "outputs": [
    {
     "name": "stderr",
     "output_type": "stream",
     "text": [
      "Reusing dataset tydiqa-goldp-th (/workspace/cache/chompk___tydiqa-goldp-th/th/1.1.0/3bcb52f1a9a39ac616d6356b941e9eb8096b91a5850568245edd0bdf35388ac9)\n"
     ]
    },
    {
     "data": {
      "application/vnd.jupyter.widget-view+json": {
       "model_id": "2bcaa83755084926b277ce0a281dde43",
       "version_major": 2,
       "version_minor": 0
      },
      "text/plain": [
       "  0%|          | 0/2 [00:00<?, ?it/s]"
      ]
     },
     "metadata": {},
     "output_type": "display_data"
    }
   ],
   "source": [
    "from datasets import load_dataset\n",
    "import pandas as pd\n",
    "\n",
    "dataset = load_dataset(\"chompk/tydiqa-goldp-th\")"
   ]
  },
  {
   "cell_type": "markdown",
   "metadata": {},
   "source": [
    "# dataset prepare"
   ]
  },
  {
   "cell_type": "code",
   "execution_count": 9,
   "metadata": {},
   "outputs": [],
   "source": [
    "all_doc = set(dataset['validation']['context'])\n",
    "all_doc = {c:i for i,c in enumerate(all_doc)}\n",
    "\n",
    "question_contextid_context = []\n",
    "for item in dataset['validation']:\n",
    "    question = item['question']\n",
    "    doc = item['context']\n",
    "    question_contextid_context.append([all_doc[doc],question])\n",
    "    \n",
    "df_question = pd.DataFrame(question_contextid_context, columns =['doc_id','question'])\n",
    "df_document = pd.DataFrame(zip(list(all_doc.values()),list(all_doc.keys())), columns =['doc_id','document'])"
   ]
  },
  {
   "cell_type": "markdown",
   "metadata": {},
   "source": [
    "# test model"
   ]
  },
  {
   "cell_type": "code",
   "execution_count": 5,
   "metadata": {},
   "outputs": [],
   "source": [
    "from sentence_transformers import SentenceTransformer\n",
    "import numpy as np"
   ]
  },
  {
   "cell_type": "code",
   "execution_count": 6,
   "metadata": {},
   "outputs": [],
   "source": [
    "def sim_search(question_encoded,doc_encoded):\n",
    "    query_map = np.full(doc_encoded.shape, question_encoded)\n",
    "    sim_score = np.array([*map(np.inner,query_map,doc_encoded)])\n",
    "    return np.argsort(sim_score)[::-1]\n",
    "\n",
    "def evaluate(question_id,question_all,context_id,context_all,mrr_rank=10,status=True):\n",
    "    top_1 = 0; top_5 = 0; top_10 = 0;\n",
    "    mrr_score = 0\n",
    "    context_id = np.array(context_id)\n",
    "    sim_score = np.inner(question_all,context_all)\n",
    "    status_bar = enumerate(sim_score)\n",
    "    for idx,sim in status_bar:\n",
    "        index = np.argsort(sim)[::-1]\n",
    "        index_edit = [context_id[x] for x in index]\n",
    "        idx_search = list(index_edit).index(question_id[idx])\n",
    "        if idx_search == 0:\n",
    "            top_1+=1\n",
    "            top_5+=1\n",
    "            top_10+=1\n",
    "        elif idx_search < 5:\n",
    "            top_5+=1\n",
    "            top_10+=1\n",
    "        elif idx_search < 10:\n",
    "            top_10+=1  \n",
    "        if idx_search < mrr_rank:\n",
    "            mrr_score += (1/(idx_search+1))\n",
    "    mrr_score/=len(question_all)\n",
    "    return top_1,top_5,top_10,mrr_score"
   ]
  },
  {
   "cell_type": "code",
   "execution_count": 7,
   "metadata": {},
   "outputs": [],
   "source": [
    "model_name = 'mrp/simcse-model-roberta-base-thai' # mrp/simcse-model-distil-m-bert\n",
    "model = SentenceTransformer(model_name)"
   ]
  },
  {
   "cell_type": "code",
   "execution_count": 10,
   "metadata": {},
   "outputs": [
    {
     "name": "stdout",
     "output_type": "stream",
     "text": [
      "mrp/simcse-model-roberta-base-thai\n",
      "Traninng Score P@1: 0.526\n",
      "Traninng Score P@5: 0.705\n",
      "Traninng Score P@10: 0.763\n",
      "Mrr score:0.602\n"
     ]
    }
   ],
   "source": [
    "doc_context_id = df_document['doc_id'].to_list()    \n",
    "doc_context_encoded = model.encode(df_document['document'].to_list(),convert_to_numpy=True,normalize_embeddings=True)\n",
    "\n",
    "question_id = df_question['doc_id'].to_list()\n",
    "questions = model.encode(df_question['question'].to_list(),convert_to_numpy=True,normalize_embeddings=True)\n",
    "\n",
    "top_1,top_5,top_10,mrr = evaluate(question_id,questions,doc_context_id,doc_context_encoded)\n",
    "\n",
    "print(f'{model_name}')\n",
    "precision = top_1 / len(questions)\n",
    "print(f\"Traninng Score P@1: {precision:.3f}\")\n",
    "precision = top_5 / len(questions)\n",
    "print(f\"Traninng Score P@5: {precision:.3f}\")\n",
    "precision = top_10 / len(questions)\n",
    "print(f\"Traninng Score P@10: {precision:.3f}\")\n",
    "print(f\"Mrr score:{mrr:.3f}\")"
   ]
  },
  {
   "cell_type": "code",
   "execution_count": null,
   "metadata": {},
   "outputs": [],
   "source": []
  }
 ],
 "metadata": {
  "kernelspec": {
   "display_name": "Python 3",
   "language": "python",
   "name": "python3"
  },
  "language_info": {
   "codemirror_mode": {
    "name": "ipython",
    "version": 3
   },
   "file_extension": ".py",
   "mimetype": "text/x-python",
   "name": "python",
   "nbconvert_exporter": "python",
   "pygments_lexer": "ipython3",
   "version": "3.6.9"
  }
 },
 "nbformat": 4,
 "nbformat_minor": 2
}
