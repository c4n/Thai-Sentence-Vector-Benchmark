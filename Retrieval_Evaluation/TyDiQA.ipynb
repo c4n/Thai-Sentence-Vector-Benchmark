{
 "cells": [
  {
   "cell_type": "code",
   "execution_count": 1,
   "metadata": {
    "scrolled": true
   },
   "outputs": [
    {
     "data": {
      "application/vnd.jupyter.widget-view+json": {
       "model_id": "f327c6a9ed8b4c179ad2c6b25ce5ea4f",
       "version_major": 2,
       "version_minor": 0
      },
      "text/plain": [
       "Downloading builder script:   0%|          | 0.00/4.84k [00:00<?, ?B/s]"
      ]
     },
     "metadata": {},
     "output_type": "display_data"
    },
    {
     "name": "stdout",
     "output_type": "stream",
     "text": [
      "Downloading and preparing dataset tydiqa-goldp-th/th to /root/.cache/huggingface/datasets/chompk___tydiqa-goldp-th/th/1.1.0/3bcb52f1a9a39ac616d6356b941e9eb8096b91a5850568245edd0bdf35388ac9...\n"
     ]
    },
    {
     "data": {
      "application/vnd.jupyter.widget-view+json": {
       "model_id": "1563c79ead9d4d66b9e100e11167a335",
       "version_major": 2,
       "version_minor": 0
      },
      "text/plain": [
       "Downloading data files:   0%|          | 0/2 [00:00<?, ?it/s]"
      ]
     },
     "metadata": {},
     "output_type": "display_data"
    },
    {
     "data": {
      "application/vnd.jupyter.widget-view+json": {
       "model_id": "eb54454c3001456a97a54576b982a405",
       "version_major": 2,
       "version_minor": 0
      },
      "text/plain": [
       "Downloading data:   0%|          | 0.00/11.0M [00:00<?, ?B/s]"
      ]
     },
     "metadata": {},
     "output_type": "display_data"
    },
    {
     "data": {
      "application/vnd.jupyter.widget-view+json": {
       "model_id": "008e7a4c6f1a43f29f762d9926dad2e5",
       "version_major": 2,
       "version_minor": 0
      },
      "text/plain": [
       "Downloading data:   0%|          | 0.00/2.54M [00:00<?, ?B/s]"
      ]
     },
     "metadata": {},
     "output_type": "display_data"
    },
    {
     "data": {
      "application/vnd.jupyter.widget-view+json": {
       "model_id": "",
       "version_major": 2,
       "version_minor": 0
      },
      "text/plain": [
       "Generating train split: 0 examples [00:00, ? examples/s]"
      ]
     },
     "metadata": {},
     "output_type": "display_data"
    },
    {
     "data": {
      "application/vnd.jupyter.widget-view+json": {
       "model_id": "",
       "version_major": 2,
       "version_minor": 0
      },
      "text/plain": [
       "Generating validation split: 0 examples [00:00, ? examples/s]"
      ]
     },
     "metadata": {},
     "output_type": "display_data"
    },
    {
     "name": "stdout",
     "output_type": "stream",
     "text": [
      "Dataset tydiqa-goldp-th downloaded and prepared to /root/.cache/huggingface/datasets/chompk___tydiqa-goldp-th/th/1.1.0/3bcb52f1a9a39ac616d6356b941e9eb8096b91a5850568245edd0bdf35388ac9. Subsequent calls will reuse this data.\n"
     ]
    },
    {
     "data": {
      "application/vnd.jupyter.widget-view+json": {
       "model_id": "cd8875f5991643a2acbd6443b287f7a3",
       "version_major": 2,
       "version_minor": 0
      },
      "text/plain": [
       "  0%|          | 0/2 [00:00<?, ?it/s]"
      ]
     },
     "metadata": {},
     "output_type": "display_data"
    }
   ],
   "source": [
    "from datasets import load_dataset\n",
    "import pandas as pd\n",
    "\n",
    "dataset = load_dataset(\"chompk/tydiqa-goldp-th\")"
   ]
  },
  {
   "cell_type": "markdown",
   "metadata": {},
   "source": [
    "# dataset prepare"
   ]
  },
  {
   "cell_type": "code",
   "execution_count": 2,
   "metadata": {},
   "outputs": [],
   "source": [
    "all_doc = set(dataset['validation']['context'])\n",
    "all_doc = {c:i for i,c in enumerate(all_doc)}\n",
    "\n",
    "question_contextid_context = []\n",
    "for item in dataset['validation']:\n",
    "    question = item['question']\n",
    "    doc = item['context']\n",
    "    question_contextid_context.append([all_doc[doc],question])\n",
    "    \n",
    "df_question = pd.DataFrame(question_contextid_context, columns =['doc_id','question'])\n",
    "df_document = pd.DataFrame(zip(list(all_doc.values()),list(all_doc.keys())), columns =['doc_id','document'])"
   ]
  },
  {
   "cell_type": "markdown",
   "metadata": {},
   "source": [
    "# test model"
   ]
  },
  {
   "cell_type": "code",
   "execution_count": 3,
   "metadata": {},
   "outputs": [],
   "source": [
    "from sentence_transformers import SentenceTransformer\n",
    "import numpy as np"
   ]
  },
  {
   "cell_type": "code",
   "execution_count": 4,
   "metadata": {},
   "outputs": [],
   "source": [
    "def evaluate(question_id,question_all,context_id,context_all,mrr_rank=10,status=True):\n",
    "    top_1 = 0; top_5 = 0; top_10 = 0;\n",
    "    mrr_score = 0\n",
    "    context_id = np.array(context_id)\n",
    "    sim_score = np.inner(question_all,context_all)\n",
    "    status_bar = enumerate(sim_score)\n",
    "    for idx,sim in status_bar:\n",
    "        index = np.argsort(sim)[::-1]\n",
    "        index_edit = [context_id[x] for x in index]\n",
    "        idx_search = list(index_edit).index(question_id[idx])\n",
    "        if idx_search == 0:\n",
    "            top_1+=1\n",
    "            top_5+=1\n",
    "            top_10+=1\n",
    "        elif idx_search < 5:\n",
    "            top_5+=1\n",
    "            top_10+=1\n",
    "        elif idx_search < 10:\n",
    "            top_10+=1  \n",
    "        if idx_search < mrr_rank:\n",
    "            mrr_score += (1/(idx_search+1))\n",
    "    mrr_score/=len(question_all)\n",
    "    return top_1,top_5,top_10,mrr_score"
   ]
  },
  {
   "cell_type": "code",
   "execution_count": 8,
   "metadata": {},
   "outputs": [],
   "source": [
    "model_name = 'sentence-transformers/paraphrase-multilingual-mpnet-base-v2' # mrp/simcse-model-distil-m-bert\n",
    "model = SentenceTransformer(model_name)"
   ]
  },
  {
   "cell_type": "code",
   "execution_count": 9,
   "metadata": {},
   "outputs": [
    {
     "name": "stdout",
     "output_type": "stream",
     "text": [
      "sentence-transformers/paraphrase-multilingual-mpnet-base-v2\n",
      "Traninng Score P@1: 0.5439\n",
      "Traninng Score P@5: 0.7497\n",
      "Traninng Score P@10: 0.8178\n",
      "Mrr score:0.6312\n"
     ]
    }
   ],
   "source": [
    "doc_context_id = df_document['doc_id'].to_list()    \n",
    "doc_context_encoded = model.encode(df_document['document'].to_list(),convert_to_numpy=True,normalize_embeddings=True)\n",
    "\n",
    "question_id = df_question['doc_id'].to_list()\n",
    "questions = model.encode(df_question['question'].to_list(),convert_to_numpy=True,normalize_embeddings=True)\n",
    "\n",
    "top_1,top_5,top_10,mrr = evaluate(question_id,questions,doc_context_id,doc_context_encoded)\n",
    "\n",
    "print(f'{model_name}')\n",
    "precision = top_1 / len(questions)\n",
    "print(f\"Traninng Score P@1: {precision:.4f}\")\n",
    "precision = top_5 / len(questions)\n",
    "print(f\"Traninng Score P@5: {precision:.4f}\")\n",
    "precision = top_10 / len(questions)\n",
    "print(f\"Traninng Score P@10: {precision:.4f}\")\n",
    "print(f\"Mrr score:{mrr:.4f}\")"
   ]
  },
  {
   "cell_type": "code",
   "execution_count": null,
   "metadata": {},
   "outputs": [],
   "source": []
  }
 ],
 "metadata": {
  "kernelspec": {
   "display_name": "Python 3",
   "language": "python",
   "name": "python3"
  },
  "language_info": {
   "codemirror_mode": {
    "name": "ipython",
    "version": 3
   },
   "file_extension": ".py",
   "mimetype": "text/x-python",
   "name": "python",
   "nbconvert_exporter": "python",
   "pygments_lexer": "ipython3",
   "version": "3.6.9"
  }
 },
 "nbformat": 4,
 "nbformat_minor": 2
}
