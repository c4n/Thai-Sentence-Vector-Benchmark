{
 "cells": [
  {
   "cell_type": "code",
   "execution_count": 1,
   "metadata": {
    "scrolled": true
   },
   "outputs": [],
   "source": [
    "import json\n",
    "import pandas as pd"
   ]
  },
  {
   "cell_type": "markdown",
   "metadata": {},
   "source": [
    "# dataset prepare"
   ]
  },
  {
   "cell_type": "code",
   "execution_count": 2,
   "metadata": {},
   "outputs": [],
   "source": [
    "with open(f'xquad.th.json') as f: # from https://github.com/google-deepmind/xquad/blob/master/xquad.th.json\n",
    "    data = json.load(f)\n",
    "\n",
    "document_id = 0\n",
    "titleid_title_context = []\n",
    "question_contextid_context = []\n",
    "titleid_title_allcontext = []\n",
    "for item in data['data']:\n",
    "    title = item['title']\n",
    "    for context_question in item['paragraphs']:\n",
    "        context = context_question['context']\n",
    "        context = context.replace('\\ufeff','')\n",
    "        titleid_title_context.append([document_id,title,context])\n",
    "        for q in context_question['qas']:\n",
    "            question = q['question']\n",
    "            question_contextid_context.append([document_id,question])\n",
    "        document_id+=1\n",
    "df_question = pd.DataFrame(question_contextid_context, columns =['doc_id','question'])\n",
    "df_document = pd.DataFrame(titleid_title_context, columns =['doc_id','title','document'])\n"
   ]
  },
  {
   "cell_type": "markdown",
   "metadata": {},
   "source": [
    "# test model"
   ]
  },
  {
   "cell_type": "code",
   "execution_count": 3,
   "metadata": {},
   "outputs": [
    {
     "name": "stderr",
     "output_type": "stream",
     "text": [
      "/root/anaconda3/envs/test_sct/lib/python3.8/site-packages/huggingface_hub/snapshot_download.py:6: FutureWarning: snapshot_download.py has been made private and will no longer be available from version 0.11. Please use `from huggingface_hub import snapshot_download` to import the only public function in this module. Other members of the file may be changed without a deprecation notice.\n",
      "  warnings.warn(\n"
     ]
    }
   ],
   "source": [
    "from sentence_transformers import SentenceTransformer\n",
    "import numpy as np"
   ]
  },
  {
   "cell_type": "code",
   "execution_count": 4,
   "metadata": {},
   "outputs": [],
   "source": [
    "def sim_search(question_encoded,doc_encoded):\n",
    "    query_map = np.full(doc_encoded.shape, question_encoded)\n",
    "    sim_score = np.array([*map(np.inner,query_map,doc_encoded)])\n",
    "    return np.argsort(sim_score)[::-1]\n",
    "\n",
    "def evaluate(question_id,question_all,context_id,context_all,mrr_rank=10,status=True):\n",
    "    top_1 = 0; top_5 = 0; top_10 = 0;\n",
    "    mrr_score = 0\n",
    "    context_id = np.array(context_id)\n",
    "    sim_score = np.inner(question_all,context_all)\n",
    "    status_bar = enumerate(sim_score)\n",
    "    for idx,sim in status_bar:\n",
    "        index = np.argsort(sim)[::-1]\n",
    "        index_edit = [context_id[x] for x in index]\n",
    "        idx_search = list(index_edit).index(question_id[idx])\n",
    "        if idx_search == 0:\n",
    "            top_1+=1\n",
    "            top_5+=1\n",
    "            top_10+=1\n",
    "        elif idx_search < 5:\n",
    "            top_5+=1\n",
    "            top_10+=1\n",
    "        elif idx_search < 10:\n",
    "            top_10+=1  \n",
    "        if idx_search < mrr_rank:\n",
    "            mrr_score += (1/(idx_search+1))\n",
    "    mrr_score/=len(question_all)\n",
    "    return top_1,top_5,top_10,mrr_score"
   ]
  },
  {
   "cell_type": "code",
   "execution_count": 5,
   "metadata": {},
   "outputs": [
    {
     "name": "stderr",
     "output_type": "stream",
     "text": [
      "/root/anaconda3/envs/test_sct/lib/python3.8/site-packages/huggingface_hub/file_download.py:588: FutureWarning: `cached_download` is the legacy way to download files from the HF hub, please consider upgrading to `hf_hub_download`\n",
      "  warnings.warn(\n",
      "WARNING:root:No sentence-transformers model found with name /root/.cache/torch/sentence_transformers/kornwtp_ConGen-simcse-model-roberta-base-thai. Creating a new one with MEAN pooling.\n"
     ]
    }
   ],
   "source": [
    "# model_name = 'mrp/simcse-model-roberta-base-thai' # mrp/simcse-model-distil-m-bert\n",
    "model_name = 'kornwtp/ConGen-simcse-model-roberta-base-thai' # kornwtp/ConGen-simcse-model-roberta-base-thai\n",
    "model = SentenceTransformer(model_name)\n",
    "model.max_seq_length = 200"
   ]
  },
  {
   "cell_type": "code",
   "execution_count": 6,
   "metadata": {},
   "outputs": [
    {
     "name": "stdout",
     "output_type": "stream",
     "text": [
      "kornwtp/ConGen-simcse-model-roberta-base-thai\n",
      "Traninng Score P@1: 0.480\n",
      "Traninng Score P@5: 0.677\n",
      "Traninng Score P@10: 0.748\n",
      "Mrr score:0.565\n"
     ]
    }
   ],
   "source": [
    "doc_context_id = df_document['doc_id'].to_list()    \n",
    "doc_context_encoded = model.encode(df_document['document'].to_list(),convert_to_numpy=True,normalize_embeddings=True)\n",
    "\n",
    "question_id = df_question['doc_id'].to_list()\n",
    "questions = model.encode(df_question['question'].to_list(),convert_to_numpy=True,normalize_embeddings=True)\n",
    "\n",
    "top_1,top_5,top_10,mrr = evaluate(question_id,questions,doc_context_id,doc_context_encoded)\n",
    "\n",
    "print(f'{model_name}')\n",
    "precision = top_1 / len(questions)\n",
    "print(f\"Traninng Score P@1: {precision:.3f}\")\n",
    "precision = top_5 / len(questions)\n",
    "print(f\"Traninng Score P@5: {precision:.3f}\")\n",
    "precision = top_10 / len(questions)\n",
    "print(f\"Traninng Score P@10: {precision:.3f}\")\n",
    "print(f\"Mrr score:{mrr:.3f}\")"
   ]
  },
  {
   "cell_type": "code",
   "execution_count": 7,
   "metadata": {},
   "outputs": [
    {
     "name": "stderr",
     "output_type": "stream",
     "text": [
      "WARNING:root:No sentence-transformers model found with name /root/.cache/torch/sentence_transformers/kornwtp_ConGen-paraphrase-multilingual-mpnet-base-v2. Creating a new one with MEAN pooling.\n"
     ]
    }
   ],
   "source": [
    "# model_name = 'mrp/simcse-model-roberta-base-thai' # mrp/simcse-model-distil-m-bert\n",
    "model_name = 'kornwtp/ConGen-paraphrase-multilingual-mpnet-base-v2' # kornwtp/ConGen-simcse-model-roberta-base-thai\n",
    "model = SentenceTransformer(model_name)\n",
    "model.max_seq_length = 200"
   ]
  },
  {
   "cell_type": "code",
   "execution_count": 8,
   "metadata": {},
   "outputs": [
    {
     "name": "stdout",
     "output_type": "stream",
     "text": [
      "kornwtp/ConGen-paraphrase-multilingual-mpnet-base-v2\n",
      "Traninng Score P@1: 0.754\n",
      "Traninng Score P@5: 0.931\n",
      "Traninng Score P@10: 0.966\n",
      "Mrr score:0.830\n"
     ]
    }
   ],
   "source": [
    "doc_context_id = df_document['doc_id'].to_list()    \n",
    "doc_context_encoded = model.encode(df_document['document'].to_list(),convert_to_numpy=True,normalize_embeddings=True)\n",
    "\n",
    "question_id = df_question['doc_id'].to_list()\n",
    "questions = model.encode(df_question['question'].to_list(),convert_to_numpy=True,normalize_embeddings=True)\n",
    "\n",
    "top_1,top_5,top_10,mrr = evaluate(question_id,questions,doc_context_id,doc_context_encoded)\n",
    "\n",
    "print(f'{model_name}')\n",
    "precision = top_1 / len(questions)\n",
    "print(f\"Traninng Score P@1: {precision:.3f}\")\n",
    "precision = top_5 / len(questions)\n",
    "print(f\"Traninng Score P@5: {precision:.3f}\")\n",
    "precision = top_10 / len(questions)\n",
    "print(f\"Traninng Score P@10: {precision:.3f}\")\n",
    "print(f\"Mrr score:{mrr:.3f}\")"
   ]
  },
  {
   "cell_type": "code",
   "execution_count": null,
   "metadata": {},
   "outputs": [],
   "source": []
  }
 ],
 "metadata": {
  "kernelspec": {
   "display_name": "Python 3 (ipykernel)",
   "language": "python",
   "name": "python3"
  },
  "language_info": {
   "codemirror_mode": {
    "name": "ipython",
    "version": 3
   },
   "file_extension": ".py",
   "mimetype": "text/x-python",
   "name": "python",
   "nbconvert_exporter": "python",
   "pygments_lexer": "ipython3",
   "version": "3.8.18"
  }
 },
 "nbformat": 4,
 "nbformat_minor": 4
}
